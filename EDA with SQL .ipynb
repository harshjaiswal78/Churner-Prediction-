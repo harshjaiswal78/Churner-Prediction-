{
    "metadata": {
        "kernelspec": {
            "name": "SQL",
            "display_name": "SQL",
            "language": "sql"
        },
        "language_info": {
            "name": "sql",
            "version": ""
        }
    },
    "nbformat_minor": 2,
    "nbformat": 4,
    "cells": [
        {
            "cell_type": "markdown",
            "source": [
                "**Exploring Data Sets**"
            ],
            "metadata": {
                "azdata_cell_guid": "9430fa33-923e-4c46-a73e-09d0ae175a82"
            },
            "attachments": {}
        },
        {
            "cell_type": "code",
            "source": [
                "SELECT Gender, Count(Gender) as TotalCount,\n",
                "Count(Gender) * 1.0 / (Select Count(*) from stg_Churn)  as Percentage\n",
                "from stg_Churn\n",
                "Group by Gender\n",
                ""
            ],
            "metadata": {
                "azdata_cell_guid": "4e1530c1-fc93-436e-bcc4-481b6acf748e",
                "language": "sql"
            },
            "outputs": [
                {
                    "output_type": "error",
                    "evalue": "Execution failed due to an unexpected error: \n\tConnection is required in order to interact with queries",
                    "ename": "",
                    "traceback": []
                },
                {
                    "output_type": "display_data",
                    "data": {
                        "text/html": "Total execution time: 00:00:00"
                    },
                    "metadata": {}
                }
            ],
            "execution_count": 2
        },
        {
            "cell_type": "code",
            "source": [
                "SELECT Contract, Count(Contract) as TotalCount,\n",
                "Count(Contract) * 1.0 / (Select Count(*) from stg_Churn)  as Percentage\n",
                "from stg_Churn\n",
                "Group by Contract\n",
                "\n",
                ""
            ],
            "metadata": {
                "language": "sql",
                "azdata_cell_guid": "18fc8d2c-7e05-4e61-8828-55645b86aac3"
            },
            "outputs": [],
            "execution_count": null
        },
        {
            "cell_type": "code",
            "source": [
                "\n",
                "SELECT Customer_Status, Count(Customer_Status) as TotalCount, Sum(Total_Revenue) as TotalRev,\n",
                "Sum(Total_Revenue) / (Select sum(Total_Revenue) from stg_Churn) * 100  as RevPercentage\n",
                "from stg_Churn\n",
                "Group by Customer_Status\n",
                ""
            ],
            "metadata": {
                "language": "sql",
                "azdata_cell_guid": "fb9bdb1f-ea22-47f5-b114-8f77170dd241"
            },
            "outputs": [],
            "execution_count": null
        },
        {
            "cell_type": "code",
            "source": [
                "SELECT State, Count(State) as TotalCount,\n",
                "Count(State) * 1.0 / (Select Count(*) from stg_Churn)  as Percentage\n",
                "from stg_Churn\n",
                "Group by State\n",
                "Order by Percentage desc\n",
                ""
            ],
            "metadata": {
                "language": "sql",
                "azdata_cell_guid": "5cdffaff-a918-4d1d-986a-f925b90908a7"
            },
            "outputs": [],
            "execution_count": null
        },
        {
            "cell_type": "markdown",
            "source": [
                "**<span style=\"font-size: 14pt; line-height: 19.9733px;\">Data Exploration – Check Nulls<br><br></span>**"
            ],
            "metadata": {
                "language": "sql",
                "azdata_cell_guid": "91743bd1-c969-4e41-983e-5c780eaf1f7c"
            },
            "attachments": {}
        },
        {
            "cell_type": "code",
            "source": [
                "SELECT \n",
                "    SUM(CASE WHEN Customer_ID IS NULL THEN 1 ELSE 0 END) AS Customer_ID_Null_Count,\n",
                "    SUM(CASE WHEN Gender IS NULL THEN 1 ELSE 0 END) AS Gender_Null_Count,\n",
                "    SUM(CASE WHEN Age IS NULL THEN 1 ELSE 0 END) AS Age_Null_Count,\n",
                "    SUM(CASE WHEN Married IS NULL THEN 1 ELSE 0 END) AS Married_Null_Count,\n",
                "    SUM(CASE WHEN State IS NULL THEN 1 ELSE 0 END) AS State_Null_Count,\n",
                "    SUM(CASE WHEN Number_of_Referrals IS NULL THEN 1 ELSE 0 END) AS Number_of_Referrals_Null_Count,\n",
                "    SUM(CASE WHEN Tenure_in_Months IS NULL THEN 1 ELSE 0 END) AS Tenure_in_Months_Null_Count,\n",
                "    SUM(CASE WHEN Value_Deal IS NULL THEN 1 ELSE 0 END) AS Value_Deal_Null_Count,\n",
                "    SUM(CASE WHEN Phone_Service IS NULL THEN 1 ELSE 0 END) AS Phone_Service_Null_Count,\n",
                "    SUM(CASE WHEN Multiple_Lines IS NULL THEN 1 ELSE 0 END) AS Multiple_Lines_Null_Count,\n",
                "    SUM(CASE WHEN Internet_Service IS NULL THEN 1 ELSE 0 END) AS Internet_Service_Null_Count,\n",
                "    SUM(CASE WHEN Internet_Type IS NULL THEN 1 ELSE 0 END) AS Internet_Type_Null_Count,\n",
                "    SUM(CASE WHEN Online_Security IS NULL THEN 1 ELSE 0 END) AS Online_Security_Null_Count,\n",
                "    SUM(CASE WHEN Online_Backup IS NULL THEN 1 ELSE 0 END) AS Online_Backup_Null_Count,\n",
                "    SUM(CASE WHEN Device_Protection_Plan IS NULL THEN 1 ELSE 0 END) AS Device_Protection_Plan_Null_Count,\n",
                "    SUM(CASE WHEN Premium_Support IS NULL THEN 1 ELSE 0 END) AS Premium_Support_Null_Count,\n",
                "    SUM(CASE WHEN Streaming_TV IS NULL THEN 1 ELSE 0 END) AS Streaming_TV_Null_Count,\n",
                "    SUM(CASE WHEN Streaming_Movies IS NULL THEN 1 ELSE 0 END) AS Streaming_Movies_Null_Count,\n",
                "    SUM(CASE WHEN Streaming_Music IS NULL THEN 1 ELSE 0 END) AS Streaming_Music_Null_Count,\n",
                "    SUM(CASE WHEN Unlimited_Data IS NULL THEN 1 ELSE 0 END) AS Unlimited_Data_Null_Count,\n",
                "    SUM(CASE WHEN Contract IS NULL THEN 1 ELSE 0 END) AS Contract_Null_Count,\n",
                "    SUM(CASE WHEN Paperless_Billing IS NULL THEN 1 ELSE 0 END) AS Paperless_Billing_Null_Count,\n",
                "    SUM(CASE WHEN Payment_Method IS NULL THEN 1 ELSE 0 END) AS Payment_Method_Null_Count,\n",
                "    SUM(CASE WHEN Monthly_Charge IS NULL THEN 1 ELSE 0 END) AS Monthly_Charge_Null_Count,\n",
                "    SUM(CASE WHEN Total_Charges IS NULL THEN 1 ELSE 0 END) AS Total_Charges_Null_Count,\n",
                "    SUM(CASE WHEN Total_Refunds IS NULL THEN 1 ELSE 0 END) AS Total_Refunds_Null_Count,\n",
                "    SUM(CASE WHEN Total_Extra_Data_Charges IS NULL THEN 1 ELSE 0 END) AS Total_Extra_Data_Charges_Null_Count,\n",
                "    SUM(CASE WHEN Total_Long_Distance_Charges IS NULL THEN 1 ELSE 0 END) AS Total_Long_Distance_Charges_Null_Count,\n",
                "    SUM(CASE WHEN Total_Revenue IS NULL THEN 1 ELSE 0 END) AS Total_Revenue_Null_Count,\n",
                "    SUM(CASE WHEN Customer_Status IS NULL THEN 1 ELSE 0 END) AS Customer_Status_Null_Count,\n",
                "    SUM(CASE WHEN Churn_Category IS NULL THEN 1 ELSE 0 END) AS Churn_Category_Null_Count,\n",
                "    SUM(CASE WHEN Churn_Reason IS NULL THEN 1 ELSE 0 END) AS Churn_Reason_Null_Count\n",
                "FROM stg_Churn;\n",
                ""
            ],
            "metadata": {
                "language": "sql",
                "azdata_cell_guid": "d75589a0-0653-49a5-81cb-de24a35ef285"
            },
            "outputs": [],
            "execution_count": null
        },
        {
            "cell_type": "markdown",
            "source": [
                "**<span style=\"font-size: 14pt; line-height: 19.9733px;\">Remove null and insert the new data into the Prod table</span>**\n",
                "\n",
                "**<span style=\"font-size: 14pt; line-height: 19.9733px;\"><br><br><br><br></span>**"
            ],
            "metadata": {
                "language": "sql",
                "azdata_cell_guid": "e5ec5019-f0f9-45dc-aafa-72ccb3f15322"
            },
            "attachments": {}
        },
        {
            "cell_type": "code",
            "source": [
                "SELECT \n",
                "    Customer_ID,\n",
                "    Gender,\n",
                "    Age,\n",
                "    Married,\n",
                "    State,\n",
                "    Number_of_Referrals,\n",
                "    Tenure_in_Months,\n",
                "    ISNULL(Value_Deal, 'None') AS Value_Deal,\n",
                "    Phone_Service,\n",
                "    ISNULL(Multiple_Lines, 'No') As Multiple_Lines,\n",
                "    Internet_Service,\n",
                "    ISNULL(Internet_Type, 'None') AS Internet_Type,\n",
                "    ISNULL(Online_Security, 'No') AS Online_Security,\n",
                "    ISNULL(Online_Backup, 'No') AS Online_Backup,\n",
                "    ISNULL(Device_Protection_Plan, 'No') AS Device_Protection_Plan,\n",
                "    ISNULL(Premium_Support, 'No') AS Premium_Support,\n",
                "    ISNULL(Streaming_TV, 'No') AS Streaming_TV,\n",
                "    ISNULL(Streaming_Movies, 'No') AS Streaming_Movies,\n",
                "    ISNULL(Streaming_Music, 'No') AS Streaming_Music,\n",
                "    ISNULL(Unlimited_Data, 'No') AS Unlimited_Data,\n",
                "    Contract,\n",
                "    Paperless_Billing,\n",
                "    Payment_Method,\n",
                "    Monthly_Charge,\n",
                "    Total_Charges,\n",
                "    Total_Refunds,\n",
                "    Total_Extra_Data_Charges,\n",
                "    Total_Long_Distance_Charges,\n",
                "    Total_Revenue,\n",
                "    Customer_Status,\n",
                "    ISNULL(Churn_Category, 'Others') AS Churn_Category,\n",
                "    ISNULL(Churn_Reason , 'Others') AS Churn_Reason\n",
                "\n",
                "INTO [db_Churn].[dbo].[prod_Churn]\n",
                "FROM [db_Churn].[dbo].[stg_Churn];\n",
                ""
            ],
            "metadata": {
                "language": "sql",
                "azdata_cell_guid": "0f7e3784-4660-4203-9a7c-510f7c7c6cb5",
                "tags": []
            },
            "outputs": [],
            "execution_count": null
        },
        {
            "cell_type": "markdown",
            "source": [
                "**<span style=\"font-size: 14pt; line-height: 19.9733px;\">Create View for Power BI</span>**"
            ],
            "metadata": {
                "language": "sql",
                "azdata_cell_guid": "9a83b267-3c49-4cb5-b447-aa54a98f06a1"
            },
            "attachments": {}
        },
        {
            "cell_type": "code",
            "source": [
                "Create View vw_ChurnData as\n",
                "\tselect * from prod_Churn where Customer_Status In ('Churned', 'Stayed')"
            ],
            "metadata": {
                "language": "sql",
                "azdata_cell_guid": "6351d324-b9c6-425c-88db-4b628991ae2a"
            },
            "outputs": [],
            "execution_count": null
        },
        {
            "cell_type": "code",
            "source": [
                "Create View vw_JoinData as\n",
                "\tselect * from prod_Churn where Customer_Status = 'Joined'\n",
                ""
            ],
            "metadata": {
                "language": "sql",
                "azdata_cell_guid": "cfff504d-7610-413d-81c3-43af0ad77b4a"
            },
            "outputs": [],
            "execution_count": null
        }
    ]
}